{
 "cells": [
  {
   "cell_type": "code",
   "execution_count": 58,
   "metadata": {},
   "outputs": [],
   "source": [
    "import pandas as pd\n",
    "from  sympy import *\n",
    "import math \n",
    "import numpy as np \n",
    "import matplotlib.pyplot as plt\n",
    "from sklearn.linear_model import LinearRegression\n",
    "import statsmodels.api as sm\n",
    "#from scipy.optimize import fmin\n",
    "import scipy"
   ]
  },
  {
   "cell_type": "code",
   "execution_count": 59,
   "metadata": {},
   "outputs": [],
   "source": [
    "df1 = pd.read_csv(r'ex2data1.txt',sep=\",\", header = None)\n",
    "df2 = pd.read_csv(r'ex2data2.txt',sep=\",\", header = None)"
   ]
  },
  {
   "cell_type": "code",
   "execution_count": 60,
   "metadata": {},
   "outputs": [
    {
     "data": {
      "text/html": [
       "<div>\n",
       "<style scoped>\n",
       "    .dataframe tbody tr th:only-of-type {\n",
       "        vertical-align: middle;\n",
       "    }\n",
       "\n",
       "    .dataframe tbody tr th {\n",
       "        vertical-align: top;\n",
       "    }\n",
       "\n",
       "    .dataframe thead th {\n",
       "        text-align: right;\n",
       "    }\n",
       "</style>\n",
       "<table border=\"1\" class=\"dataframe\">\n",
       "  <thead>\n",
       "    <tr style=\"text-align: right;\">\n",
       "      <th></th>\n",
       "      <th>0</th>\n",
       "      <th>1</th>\n",
       "      <th>2</th>\n",
       "    </tr>\n",
       "  </thead>\n",
       "  <tbody>\n",
       "    <tr>\n",
       "      <th>0</th>\n",
       "      <td>34.623660</td>\n",
       "      <td>78.024693</td>\n",
       "      <td>0</td>\n",
       "    </tr>\n",
       "    <tr>\n",
       "      <th>1</th>\n",
       "      <td>30.286711</td>\n",
       "      <td>43.894998</td>\n",
       "      <td>0</td>\n",
       "    </tr>\n",
       "    <tr>\n",
       "      <th>2</th>\n",
       "      <td>35.847409</td>\n",
       "      <td>72.902198</td>\n",
       "      <td>0</td>\n",
       "    </tr>\n",
       "    <tr>\n",
       "      <th>3</th>\n",
       "      <td>60.182599</td>\n",
       "      <td>86.308552</td>\n",
       "      <td>1</td>\n",
       "    </tr>\n",
       "    <tr>\n",
       "      <th>4</th>\n",
       "      <td>79.032736</td>\n",
       "      <td>75.344376</td>\n",
       "      <td>1</td>\n",
       "    </tr>\n",
       "  </tbody>\n",
       "</table>\n",
       "</div>"
      ],
      "text/plain": [
       "           0          1  2\n",
       "0  34.623660  78.024693  0\n",
       "1  30.286711  43.894998  0\n",
       "2  35.847409  72.902198  0\n",
       "3  60.182599  86.308552  1\n",
       "4  79.032736  75.344376  1"
      ]
     },
     "execution_count": 60,
     "metadata": {},
     "output_type": "execute_result"
    }
   ],
   "source": [
    "df1.head()"
   ]
  },
  {
   "cell_type": "code",
   "execution_count": 61,
   "metadata": {},
   "outputs": [
    {
     "data": {
      "image/png": "[encoded data removed]",
      "text/plain": [
       "<Figure size 432x288 with 1 Axes>"
      ]
     },
     "metadata": {
      "needs_background": "light"
     },
     "output_type": "display_data"
    }
   ],
   "source": [
    "x1= df1[df1.columns[0]]\n",
    "x2= df1[df1.columns[1]]\n",
    "fig, ax = plt.subplots()\n",
    "# Function to map the colors as a list from the input list of x variables\n",
    "def pltcolor(lst):\n",
    "    cols=[]\n",
    "    for l in lst:\n",
    "        if l==0:\n",
    "            cols.append('red')\n",
    "        elif l==1:\n",
    "            cols.append('blue')\n",
    "        else:\n",
    "            cols.append('green')\n",
    "    return cols\n",
    "# Create the colors list using the function above\n",
    "cols=pltcolor(df1[df1.columns[2]])\n",
    "\n",
    "plt.scatter(x=x1,y=x2,s=50,c=cols, label = 'Blue = Pass \\ Red: Fail') #Pass on the list created by the function here\n",
    "\n",
    "ax.set_title('Pass/Fail Given Exam Grades')\n",
    "\n",
    "ax.set_ylabel('Exam2')\n",
    "ax.set_xlabel('Exam 1')\n",
    "ax.legend()\n",
    "\n",
    "\n",
    "plt.grid(True)\n",
    "plt.show()"
   ]
  },
  {
   "cell_type": "code",
   "execution_count": 62,
   "metadata": {},
   "outputs": [],
   "source": [
    "#cost\n",
    "#θ0, θ1 = symbols('θ0 ,θ1') \n",
    "x1 = np.asarray(x1)\n",
    "x2 = np.asarray(x2)\n",
    "y =  np.asarray(df1[df1.columns[2]])\n"
   ]
  },
  {
   "cell_type": "code",
   "execution_count": 63,
   "metadata": {},
   "outputs": [],
   "source": [
    "x0 = np.ones((100,1))\n",
    "x1 =  x1.reshape(100,1)\n",
    "x2 =  x2.reshape(100,1)\n",
    "y = y.reshape(100,1)"
   ]
  },
  {
   "cell_type": "code",
   "execution_count": 64,
   "metadata": {},
   "outputs": [],
   "source": [
    "def sigmoid(X, thetas, y):\n",
    "    \n",
    "    product = np.matmul(X,thetas)\n",
    "    \n",
    "    return 1/(1+np.exp(-1*product)) - y"
   ]
  },
  {
   "cell_type": "code",
   "execution_count": 65,
   "metadata": {},
   "outputs": [],
   "source": [
    "# def objective(thetas,X,y): \n",
    "    \n",
    "#     new = sigmoid(X,thetas,y)\n",
    "#     sum_of_Bx  = np.matmul(X.T, new)\n",
    "    \n",
    "    \n",
    "#     return sum_of_Bx"
   ]
  },
  {
   "cell_type": "code",
   "execution_count": 66,
   "metadata": {},
   "outputs": [],
   "source": [
    "def objective(thetas,X,y): \n",
    "    \n",
    "    new = sigmoid(X,thetas,y)\n",
    "    \n",
    "    return new.sum()"
   ]
  },
  {
   "cell_type": "code",
   "execution_count": 67,
   "metadata": {},
   "outputs": [],
   "source": [
    "X = np.concatenate((x0, x1, x2), axis = 1)\n",
    "X = np.array(X, dtype=float)"
   ]
  },
  {
   "cell_type": "code",
   "execution_count": 68,
   "metadata": {},
   "outputs": [],
   "source": [
    "y = np.array(y, dtype=float)"
   ]
  },
  {
   "cell_type": "code",
   "execution_count": 71,
   "metadata": {},
   "outputs": [
    {
     "name": "stdout",
     "output_type": "stream",
     "text": [
      "Optimization terminated successfully.\n",
      "         Current function value: 4000.000000\n",
      "         Iterations: 10\n",
      "         Function evaluations: 49\n"
     ]
    }
   ],
   "source": [
    "thetas0 = np.ones((3,1))\n",
    "\n",
    "thetas = scipy.optimize.fmin(objective, thetas0, args = (X,y))"
   ]
  },
  {
   "cell_type": "code",
   "execution_count": 73,
   "metadata": {},
   "outputs": [
    {
     "data": {
      "text/plain": [
       "array([1., 1., 1.])"
      ]
     },
     "execution_count": 73,
     "metadata": {},
     "output_type": "execute_result"
    }
   ],
   "source": [
    "thetas"
   ]
  },
  {
   "cell_type": "code",
   "execution_count": null,
   "metadata": {},
   "outputs": [],
   "source": [
    "alpha = 0.001\n",
    "m = 100\n",
    "\n",
    "thetas = np.ones((3,1))\n",
    "\n",
    "iterations = 100000\n",
    "\n",
    "for i in range(iterations):\n",
    "    \n",
    "    new = sigmoid(X,thetas,y)\n",
    "    \n",
    "    bx  = np.matmul(X.T, new)\n",
    "    print(new.sum())\n",
    "    thetas =  thetas - bx * alpha/m \n",
    "       \n",
    "    i+=1"
   ]
  },
  {
   "cell_type": "code",
   "execution_count": null,
   "metadata": {},
   "outputs": [],
   "source": [
    "X.shape"
   ]
  },
  {
   "cell_type": "code",
   "execution_count": null,
   "metadata": {},
   "outputs": [],
   "source": [
    "print(bx)"
   ]
  },
  {
   "cell_type": "code",
   "execution_count": null,
   "metadata": {},
   "outputs": [],
   "source": [
    "thetas "
   ]
  },
  {
   "cell_type": "code",
   "execution_count": null,
   "metadata": {},
   "outputs": [],
   "source": [
    "1/(1+np.exp(-thetas[0]-thetas[1]*45-thetas[2]*85))"
   ]
  },
  {
   "cell_type": "code",
   "execution_count": null,
   "metadata": {},
   "outputs": [],
   "source": [
    "x1 = np.asarray(x1)\n",
    "x2 = np.asarray(x2)\n",
    "y =  np.asarray(df1[df1.columns[2]])\n",
    "\n",
    "alpha = 0.001\n",
    "m = len(y)\n",
    "theta2 = 1\n",
    "theta1 = 1 # Initializatio \n",
    "theta0 = 1 # Initialization\n",
    "\n",
    "track_cost = []\n",
    "\n",
    "# You might consider rescaling your inputs -1<x<1\n",
    "\n",
    "i= 0 \n",
    "count =1\n",
    "plotx =[]\n",
    "ploty = []\n",
    "iterations = 100000\n",
    "while i < iterations:\n",
    "    \n",
    "    result0 = theta0 - np.sum((1/(1+np.exp(-theta0-theta1*x1-theta2*x2)))-y) * alpha/m\n",
    "    result1 = theta1 - np.sum(np.multiply((1/(1+np.exp(-theta0-theta1*x1-theta2*x2)))-y,x1)) * alpha/m\n",
    "    result2 = theta2 - np.sum(np.multiply((1/(1+np.exp(-theta0-theta1*x1-theta2*x2)))-y,x2)) * alpha/m\n",
    "    #print(result0, result1,result2)\n",
    "    \n",
    "    \n",
    "    theta0 = result0 \n",
    "    theta1 = result1 \n",
    "    theta2 = result2\n",
    "    \n",
    "    cost = np.sum((1/(1+np.exp(-theta0-theta1*x1-theta2*x2)))-y)\n",
    "    track_cost.append(cost)\n",
    "    \n",
    "    i+=1\n",
    "    #plotx.append(count)\n",
    "    #ploty.append(np.sum(np.multiply((theta0+theta1*xs)-ys,xs)))\n",
    "    #count +=1 \n",
    "    \n",
    "print(theta0, theta1, theta2)"
   ]
  },
  {
   "cell_type": "code",
   "execution_count": null,
   "metadata": {},
   "outputs": [],
   "source": [
    "plt.plot(np.arange(0,iterations,1),track_cost);"
   ]
  },
  {
   "cell_type": "code",
   "execution_count": null,
   "metadata": {},
   "outputs": [],
   "source": [
    "1/(1+np.exp(-theta0-theta1*45-theta2*85))\n",
    "#should be 0.776"
   ]
  },
  {
   "cell_type": "code",
   "execution_count": null,
   "metadata": {},
   "outputs": [],
   "source": [
    "1/(1+np.exp(-theta0-theta1*45-theta2*85))"
   ]
  },
  {
   "cell_type": "code",
   "execution_count": null,
   "metadata": {},
   "outputs": [],
   "source": [
    "x1s = np.asarray(list(range(0,100)))\n",
    "x2s = ((np.multiply(x1s, -theta1/theta2) - theta0 / theta2))"
   ]
  },
  {
   "cell_type": "code",
   "execution_count": null,
   "metadata": {},
   "outputs": [],
   "source": [
    "x1= df1[df1.columns[0]]\n",
    "x2= df1[df1.columns[1]]\n",
    "fig, ax = plt.subplots()\n",
    "# Function to map the colors as a list from the input list of x variables\n",
    "def pltcolor(lst):\n",
    "    cols=[]\n",
    "    for l in lst:\n",
    "        if l==0:\n",
    "            cols.append('red')\n",
    "        elif l==1:\n",
    "            cols.append('blue')\n",
    "        else:\n",
    "            cols.append('green')\n",
    "    return cols\n",
    "# Create the colors list using the function above\n",
    "cols=pltcolor(df1[df1.columns[2]])\n",
    "\n",
    "plt.scatter(x=x1,y=x2,s=50,c=cols, label = 'Blue = Pass \\ Red: Fail') #Pass on the list created by the function here\n",
    "\n",
    "ax.set_title('Pass/Fail Given Exam Grades')\n",
    "\n",
    "ax.set_ylabel('Exam2')\n",
    "ax.set_xlabel('Exam 1')\n",
    "ax.legend()\n",
    "\n",
    "plt.plot(x2s,x1s)\n",
    "plt.grid(True)\n",
    "plt.show()"
   ]
  },
  {
   "cell_type": "code",
   "execution_count": null,
   "metadata": {},
   "outputs": [],
   "source": [
    "df1['Prediction'] = 1/(1+2.71828**(-theta0-theta1*x1-theta2*x2))\n",
    "df1['Prediction'] = 1/(1+2.71828**(-thetas[0]-thetas[1]*x1-thetas[2]*x2))"
   ]
  },
  {
   "cell_type": "code",
   "execution_count": null,
   "metadata": {},
   "outputs": [],
   "source": [
    "def get_prediction(df): \n",
    "    \n",
    "    if df['Prediction']   >= 0.5 :  return 1\n",
    "    else: return 0"
   ]
  },
  {
   "cell_type": "code",
   "execution_count": null,
   "metadata": {},
   "outputs": [],
   "source": [
    "df1['Prediction2']= df1.apply(get_prediction ,axis = 1)\n",
    "df1['Correct'] = df1['Prediction2'] == df1[df1.columns[2]]\n",
    "df1.groupby(['Correct']).count()"
   ]
  },
  {
   "cell_type": "code",
   "execution_count": null,
   "metadata": {},
   "outputs": [],
   "source": [
    "accuracy = 9/91"
   ]
  },
  {
   "cell_type": "code",
   "execution_count": null,
   "metadata": {},
   "outputs": [],
   "source": [
    "1- accuracy"
   ]
  },
  {
   "cell_type": "code",
   "execution_count": null,
   "metadata": {},
   "outputs": [],
   "source": [
    "df2.head()"
   ]
  },
  {
   "cell_type": "code",
   "execution_count": null,
   "metadata": {},
   "outputs": [],
   "source": [
    "df2.shape"
   ]
  },
  {
   "cell_type": "code",
   "execution_count": null,
   "metadata": {},
   "outputs": [],
   "source": [
    "x1= df2[df2.columns[0]]\n",
    "x2= df2[df2.columns[1]]\n",
    "fig, ax = plt.subplots()\n",
    "# Function to map the colors as a list from the input list of x variables\n",
    "def pltcolor(lst):\n",
    "    cols=[]\n",
    "    for l in lst:\n",
    "        if l==0:\n",
    "            cols.append('red')\n",
    "        elif l==1:\n",
    "            cols.append('blue')\n",
    "        else:\n",
    "            cols.append('green')\n",
    "    return cols\n",
    "# Create the colors list using the function above\n",
    "cols=pltcolor(df2[df2.columns[2]])\n",
    "\n",
    "plt.scatter(x=x1,y=x2,s=50,c=cols, label = 'Blue = Pass \\ Red: Fail') #Pass on the list created by the function here\n",
    "\n",
    "ax.set_title('Pass/Fail Given Exam Grades')\n",
    "\n",
    "ax.set_ylabel('Exam2')\n",
    "ax.set_xlabel('Exam 1')\n",
    "ax.legend()\n",
    "\n",
    "\n",
    "plt.grid(True)\n",
    "plt.show()"
   ]
  },
  {
   "cell_type": "code",
   "execution_count": null,
   "metadata": {},
   "outputs": [],
   "source": [
    "def feature_mapping(feature1, feature2):\n",
    "    \n",
    "    features = []   \n",
    "    degree = 1\n",
    "    \n",
    "    for i in range(degree+1):\n",
    "        for j in range(degree+1):\n",
    "        \n",
    "            if (i + j) < degree+1:\n",
    "                \n",
    "                features.append(feature1**(i) * feature2**(j))\n",
    "                                \n",
    "                #print(i,j)\n",
    "                            \n",
    "    return features\n",
    "features = feature_mapping(1,1)\n",
    "len(features)"
   ]
  },
  {
   "cell_type": "code",
   "execution_count": null,
   "metadata": {},
   "outputs": [],
   "source": [
    "features_array = np.ones((1,len(features)))\n",
    "x1= df2[df2.columns[0]]\n",
    "x2= df2[df2.columns[1]]\n",
    "\n",
    "for i in range(len(x1)): \n",
    "    \n",
    "    row = feature_mapping(x1[i],x2[i])\n",
    "    features_array = np.vstack([features_array, row])\n",
    "# Deleting first row\n",
    "features_array = np.delete(features_array, (0), axis=0)\n"
   ]
  },
  {
   "cell_type": "code",
   "execution_count": null,
   "metadata": {},
   "outputs": [],
   "source": [
    "features_array.shape"
   ]
  },
  {
   "cell_type": "code",
   "execution_count": null,
   "metadata": {},
   "outputs": [],
   "source": [
    "thetas = np.ones((len(features),1))\n",
    "#thetas = thetas.transpose()\n",
    "print(thetas.shape)"
   ]
  },
  {
   "cell_type": "code",
   "execution_count": null,
   "metadata": {},
   "outputs": [],
   "source": [
    "y =  np.asarray(df2[df2.columns[2]])\n",
    "\n",
    "#thetas = np.ones((len(features),1))\n",
    "alpha = 0.001\n",
    "m = len(y)\n",
    "\n",
    "result = np.ones((len(features),1))\n",
    "print(result.shape)\n",
    "print(thetas.shape)\n",
    "\n",
    "\n",
    "# You might consider rescaling your inputs -1<x<1\n",
    "i= 0 \n",
    "\n",
    "y  =  y.reshape((len(y), 1))\n",
    "#features_array  =  features_array.reshape((len(features), len(y)))\n",
    "\n",
    "\n",
    "\n",
    "while i < 1000000:\n",
    "   \n",
    "    for j in range(len(features)):\n",
    "        \n",
    "        hey = np.matmul(features_array,thetas)\n",
    "        \n",
    "       # print(hey.shape)\n",
    "        \n",
    "        \n",
    "        new = 1/(1+np.exp(-1*hey)) - y \n",
    "        new = new.transpose()\n",
    "       # print(y.shape)\n",
    "        #print(new.shape)\n",
    "        result[j] = thetas[j] - np.sum(np.multiply(new,features_array.T[j])) * alpha/m \n",
    "        #print(j,result[j], thetas[j])    \n",
    "    thetas = result    \n",
    "    \n",
    "    i+=1\n",
    "    \n",
    "print(thetas)"
   ]
  },
  {
   "cell_type": "code",
   "execution_count": null,
   "metadata": {},
   "outputs": [],
   "source": [
    "def get_power():\n",
    "    powers =[]\n",
    "    degree = 6\n",
    "    \n",
    "    for i in range(degree+1):\n",
    "        for j in range(degree+1):\n",
    "        \n",
    "            if (i + j) < degree+1:\n",
    "                powers.append([i,j])\n",
    "    return powers"
   ]
  },
  {
   "cell_type": "code",
   "execution_count": null,
   "metadata": {},
   "outputs": [],
   "source": [
    "powers = get_power()\n",
    "z = 0 \n",
    "x, y = symbols('x ,y')\n",
    "\n",
    "for i in range(len(thetas)): \n",
    "    \n",
    "    z = z + thetas[i]*y**powers[i][0]*x**powers[i][1]\n",
    "z = z[0]\n"
   ]
  },
  {
   "cell_type": "code",
   "execution_count": null,
   "metadata": {},
   "outputs": [],
   "source": [
    "x, y = symbols('x ,y')\n",
    "\n",
    "        \n",
    "z = 3.29845525+y*0.50361007-5.199775* y**2 -0.23009013*y**3-3.38379604*y**4 -0.11434627*y**5-1.61050115*y**6+x*2.19553631- 4.62570311*x*y -0.92911071*x*y**2 -1.32248414 * x*y**3-1.11935901*x*y**4-0.64746395* x* y**5 - x**2 *5.34419753-1.57338962*x**2*y -1.82330519* x**2*y**2-0.7526215* (x**2) *y**3 -0.64802721* x**2 * y**4 +1.1060586*x**3 +0.53121529*x**3*y+1.00956374*x**3*y**2+0.98173933*x**3 * y**3 - 4.09353481*x**4-0.30681322*x**4*y-0.2864696*x**4*y**2-0.38360677*x**5+0.93636891*x**5*y-3.0530421*x**6"
   ]
  },
  {
   "cell_type": "code",
   "execution_count": null,
   "metadata": {},
   "outputs": [],
   "source": [
    "z"
   ]
  },
  {
   "cell_type": "code",
   "execution_count": null,
   "metadata": {},
   "outputs": [],
   "source": [
    "from sympy import var, plot_implicit\n",
    "var('x y')\n",
    "#plot_implicit( 3.29845525+y*0.50361007-5.199775* y**2 -0.23009013*y**3-3.38379604*y**4 -0.11434627*y**5-1.61050115*y**6+x*2.19553631- 4.62570311*x*y -0.92911071*x*y**2 -1.32248414 * x*y**3-1.11935901*x*y**4-0.64746395* x* y**5 - x**2 *5.34419753-1.57338962*x**2*y -1.82330519* x**2*y**2-0.7526215* (x**2) *y**3 -0.64802721* x**2 * y**4 +1.1060586*x**3 +0.53121529*x**3*y+1.00956374*x**3*y**2+0.98173933*x**3 * y**3 - 4.09353481*x**4-0.30681322*x**4*y-0.2864696*x**4*y**2-0.38360677*x**5+0.93636891*x**5*y-3.0530421*x**6)\n",
    "plot_implicit(z)\n",
    "###################################################\n",
    "\n",
    "x1,x2 = df2[df2.columns[0]],df2[df2.columns[1]]\n",
    "x1 = np.asarray(x1)\n",
    "x2 = np.asarray(x2)\n",
    "y =  np.asarray(df2[df2.columns[2]])\n",
    "\n",
    "fig, ax = plt.subplots()\n",
    "# Function to map the colors as a list from the input list of x variables\n",
    "def pltcolor(lst):\n",
    "    cols=[]\n",
    "    for l in lst:\n",
    "        if l==0:\n",
    "            cols.append('red')\n",
    "        elif l==1:\n",
    "            cols.append('blue')\n",
    "        else:\n",
    "            cols.append('green')\n",
    "    return cols\n",
    "\n",
    "# Create the colors list using the function above\n",
    "cols=pltcolor(df2[df2.columns[2]])\n",
    "\n",
    "plt.scatter(x=x1,y=x2,s=50,c=cols, label = 'Blue = Pass \\ Red: Fail') #Pass on the list created by the function here\n",
    "\n",
    "ax.set_title('Pass/Fail Given Readings')\n",
    "\n",
    "ax.set_ylabel('Test2')\n",
    "ax.set_xlabel('Test1')\n",
    "ax.legend()\n",
    "plt.grid(True)\n",
    "plt.show()"
   ]
  },
  {
   "cell_type": "code",
   "execution_count": null,
   "metadata": {},
   "outputs": [],
   "source": [
    "x,y = df2[df2.columns[0]],df2[df2.columns[1]]\n",
    "\n",
    "df2['Prediction'] = 1/(1+2.71828**(3.29845525+y*0.50361007-5.199775* y**2 -0.23009013*y**3-3.38379604*y**4 -0.11434627*y**5-1.61050115*y**6+x*2.19553631- 4.62570311*x*y -0.92911071*x*y**2 -1.32248414 * x*y**3-1.11935901*x*y**4-0.64746395* x* y**5 - x**2 *5.34419753-1.57338962*x**2*y -1.82330519* x**2*y**2-0.7526215* (x**2) *y**3 -0.64802721* x**2 * y**4 +1.1060586*x**3 +0.53121529*x**3*y+1.00956374*x**3*y**2+0.98173933*x**3 * y**3 - 4.09353481*x**4-0.30681322*x**4*y-0.2864696*x**4*y**2-0.38360677*x**5+0.93636891*x**5*y-3.0530421*x**6))\n",
    "#df2['Prediction'] = 1/(1+2.71828**(-thetas[0]-thetas[1]*x1-thetas[2]*x2))\n",
    "\n",
    "\n",
    "df2['Prediction2'] = df2.apply(get_prediction ,axis = 1)\n",
    "df2['Correct'] = df2['Prediction2'] == df2[df2.columns[2]]\n",
    "df2.groupby(['Correct']).count()"
   ]
  },
  {
   "cell_type": "code",
   "execution_count": null,
   "metadata": {},
   "outputs": [],
   "source": [
    "features_array = features_array.transpose()\n",
    "features_array.shape"
   ]
  },
  {
   "cell_type": "code",
   "execution_count": null,
   "metadata": {},
   "outputs": [],
   "source": [
    "x1 = np.asarray(x1)\n",
    "x2 = np.asarray(x2)\n",
    "y =  np.asarray(df2[df2.columns[2]])\n",
    "\n",
    "alpha = 0.001\n",
    "m = len(y)\n",
    "theta2 = 1\n",
    "theta1 = 1 # Initializatio \n",
    "theta0 = 1 # Initialization\n",
    "\n",
    "track_cost = []\n",
    "# You might consider rescaling your inputs -1<x<1\n",
    "\n",
    "i= 0 \n",
    "count =1\n",
    "plotx =[]\n",
    "ploty = []\n",
    "while i < 300000:\n",
    "    \n",
    "    result0 = theta0 - np.sum((1/(1+2.71828**(-theta0-theta1*x1**2-theta2*x2**2)))-y) * alpha/m\n",
    "    result1 = theta1 - np.sum(np.multiply((1/(1+np.exp**(-theta0-theta1*x1**2-theta2*x2**2)))-y,x1)) * alpha/m\n",
    "    result2 = theta2 - np.sum(np.multiply((1/(1+np.exp**(-theta0-theta1*x1**2-theta2*x2**2)))-y,x2)) * alpha/m\n",
    "    #print(result0, result1,result2)\n",
    "    \n",
    "    #print(x2[0],result1)\n",
    "    theta0 = result0 \n",
    "    theta1 = result1 \n",
    "    theta2 = result2\n",
    "    \n",
    "    cost = np.sum((1/(1+np.exp(-theta0-theta1*x1**2-theta2*x2**2)))-y)\n",
    "    track_cost.append(cost)\n",
    "    i+=1\n",
    "    #plotx.append(count)\n",
    "    #ploty.append(np.sum(np.multiply((theta0+theta1*xs)-ys,xs)))\n",
    "    #count +=1 \n",
    "    \n",
    "print(theta0, theta1, theta2)"
   ]
  },
  {
   "cell_type": "code",
   "execution_count": null,
   "metadata": {},
   "outputs": [],
   "source": [
    "x1s = np.asarray(list(np.arange(-1,1,0.02)))\n",
    "x1ss = np.asarray(list(np.arange(-1,1,0.02)))\n",
    "print(x1s)\n",
    "\n",
    "features_array2 = np.ones((1,len(features)))\n",
    "\n",
    "for i in range(len(x1s)): \n",
    "    \n",
    "    row = feature_mapping(x1s[i],x1ss[i])\n",
    "    \n",
    "    features_array2 = np.vstack([features_array2, row])\n",
    "# Deleting first row\n"
   ]
  },
  {
   "cell_type": "code",
   "execution_count": null,
   "metadata": {},
   "outputs": [],
   "source": [
    "features_array2 = np.delete(features_array2, (0), axis=0)"
   ]
  },
  {
   "cell_type": "code",
   "execution_count": null,
   "metadata": {},
   "outputs": [],
   "source": [
    "features_array2 =features_array2.transpose()\n",
    "features_array2.shape"
   ]
  },
  {
   "cell_type": "code",
   "execution_count": null,
   "metadata": {},
   "outputs": [],
   "source": [
    "thetas = thetas.transpose()"
   ]
  },
  {
   "cell_type": "code",
   "execution_count": null,
   "metadata": {},
   "outputs": [],
   "source": [
    "thetas.shape"
   ]
  },
  {
   "cell_type": "code",
   "execution_count": null,
   "metadata": {},
   "outputs": [],
   "source": [
    "x2s = np.matmul(thetas,features_array2)\n",
    "x2s = x2s.transpose()"
   ]
  },
  {
   "cell_type": "code",
   "execution_count": null,
   "metadata": {},
   "outputs": [],
   "source": [
    "x1= df2[df2.columns[0]]\n",
    "x2= df2[df2.columns[1]]\n",
    "fig, ax = plt.subplots()\n",
    "# Function to map the colors as a list from the input list of x variables\n",
    "def pltcolor(lst):\n",
    "    cols=[]\n",
    "    for l in lst:\n",
    "        if l==0:\n",
    "            cols.append('red')\n",
    "        elif l==1:\n",
    "            cols.append('blue')\n",
    "        else:\n",
    "            cols.append('green')\n",
    "    return cols\n",
    "# Create the colors list using the function above\n",
    "cols=pltcolor(df2[df2.columns[2]])\n",
    "\n",
    "plt.scatter(x=x1,y=x2,s=50,c=cols, label = 'Blue = Pass \\ Red: Fail') #Pass on the list created by the function here\n",
    "\n",
    "ax.set_title('Pass/Fail Given Exam Grades')\n",
    "\n",
    "ax.set_ylabel('Exam2')\n",
    "ax.set_xlabel('Exam 1')\n",
    "ax.legend()\n",
    "\n",
    "plt.plot(x2s,x1s)\n",
    "plt.grid(True)\n",
    "plt.show()"
   ]
  }
 ],
 "metadata": {
  "kernelspec": {
   "display_name": "Python 3",
   "language": "python",
   "name": "python3"
  },
  "language_info": {
   "codemirror_mode": {
    "name": "ipython",
    "version": 3
   },
   "file_extension": ".py",
   "mimetype": "text/x-python",
   "name": "python",
   "nbconvert_exporter": "python",
   "pygments_lexer": "ipython3",
   "version": "3.7.6"
  }
 },
 "nbformat": 4,
 "nbformat_minor": 2
}
