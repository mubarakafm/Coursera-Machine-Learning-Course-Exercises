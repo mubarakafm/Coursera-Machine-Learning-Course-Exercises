{
 "cells": [
  {
   "cell_type": "code",
   "execution_count": 2,
   "metadata": {},
   "outputs": [],
   "source": [
    "import pandas as pd\n",
    "from  sympy import *\n",
    "import math \n",
    "import numpy as np \n",
    "import matplotlib.pyplot as plt\n",
    "from sklearn.linear_model import LinearRegression\n",
    "import statsmodels.api as sm\n",
    "\n",
    "import scipy"
   ]
  },
  {
   "cell_type": "code",
   "execution_count": 3,
   "metadata": {},
   "outputs": [],
   "source": [
    "df1 = pd.read_csv(r'ex1data1.txt',sep=\",\", header = None)\n",
    "df2 = pd.read_csv(r'ex1data2.txt',sep=\",\", header = None)"
   ]
  },
  {
   "cell_type": "code",
   "execution_count": 4,
   "metadata": {},
   "outputs": [
    {
     "data": {
      "text/html": [
       "<div>\n",
       "<style scoped>\n",
       "    .dataframe tbody tr th:only-of-type {\n",
       "        vertical-align: middle;\n",
       "    }\n",
       "\n",
       "    .dataframe tbody tr th {\n",
       "        vertical-align: top;\n",
       "    }\n",
       "\n",
       "    .dataframe thead th {\n",
       "        text-align: right;\n",
       "    }\n",
       "</style>\n",
       "<table border=\"1\" class=\"dataframe\">\n",
       "  <thead>\n",
       "    <tr style=\"text-align: right;\">\n",
       "      <th></th>\n",
       "      <th>0</th>\n",
       "      <th>1</th>\n",
       "    </tr>\n",
       "  </thead>\n",
       "  <tbody>\n",
       "    <tr>\n",
       "      <th>0</th>\n",
       "      <td>6.1101</td>\n",
       "      <td>17.5920</td>\n",
       "    </tr>\n",
       "    <tr>\n",
       "      <th>1</th>\n",
       "      <td>5.5277</td>\n",
       "      <td>9.1302</td>\n",
       "    </tr>\n",
       "    <tr>\n",
       "      <th>2</th>\n",
       "      <td>8.5186</td>\n",
       "      <td>13.6620</td>\n",
       "    </tr>\n",
       "    <tr>\n",
       "      <th>3</th>\n",
       "      <td>7.0032</td>\n",
       "      <td>11.8540</td>\n",
       "    </tr>\n",
       "    <tr>\n",
       "      <th>4</th>\n",
       "      <td>5.8598</td>\n",
       "      <td>6.8233</td>\n",
       "    </tr>\n",
       "  </tbody>\n",
       "</table>\n",
       "</div>"
      ],
      "text/plain": [
       "        0        1\n",
       "0  6.1101  17.5920\n",
       "1  5.5277   9.1302\n",
       "2  8.5186  13.6620\n",
       "3  7.0032  11.8540\n",
       "4  5.8598   6.8233"
      ]
     },
     "execution_count": 4,
     "metadata": {},
     "output_type": "execute_result"
    }
   ],
   "source": [
    "df1.head()"
   ]
  },
  {
   "cell_type": "code",
   "execution_count": 5,
   "metadata": {},
   "outputs": [
    {
     "data": {
      "text/plain": [
       "(97, 2)"
      ]
     },
     "execution_count": 5,
     "metadata": {},
     "output_type": "execute_result"
    }
   ],
   "source": [
    "df1.shape"
   ]
  },
  {
   "cell_type": "code",
   "execution_count": 6,
   "metadata": {},
   "outputs": [
    {
     "name": "stderr",
     "output_type": "stream",
     "text": [
      "No handles with labels found to put in legend.\n"
     ]
    },
    {
     "data": {
      "image/png": "[encoded data removed]",
      "text/plain": [
       "<Figure size 432x288 with 1 Axes>"
      ]
     },
     "metadata": {
      "needs_background": "light"
     },
     "output_type": "display_data"
    }
   ],
   "source": [
    "x1= df1[df1.columns[0]]\n",
    "x2= df1[df1.columns[1]]\n",
    "fig, ax = plt.subplots()\n",
    "# Function to map the colors as a list from the input list of x variables\n",
    "def pltcolor(lst):\n",
    "    cols=[]\n",
    "    for l in lst:\n",
    "        if l==0:\n",
    "            cols.append('red')\n",
    "        elif l==1:\n",
    "            cols.append('blue')\n",
    "        else:\n",
    "            cols.append('green')\n",
    "    return cols\n",
    "# Create the colors list using the function above\n",
    "#cols=pltcolor(df1[df1.columns[2]])\n",
    "\n",
    "plt.scatter(x=x1,y=x2,s=50) #Pass on the list created by the function here\n",
    "\n",
    "ax.set_title('Profit vs Population')\n",
    "\n",
    "ax.set_ylabel('Profit * 10k')\n",
    "ax.set_xlabel('Population * 10k')\n",
    "ax.legend()\n",
    "\n",
    "\n",
    "plt.grid(True)\n",
    "plt.show()"
   ]
  },
  {
   "cell_type": "code",
   "execution_count": 7,
   "metadata": {},
   "outputs": [
    {
     "name": "stdout",
     "output_type": "stream",
     "text": [
      "-3.8957808783116024 1.1930336441895681\n"
     ]
    }
   ],
   "source": [
    "# Gradient Descent\n",
    "\n",
    "alpha = 0.005\n",
    "m = len(x1)\n",
    "\n",
    "theta1 = 0 # Initializatio \n",
    "theta0 = 0 # Initialization\n",
    "xs = np.asarray(x1)\n",
    "ys = np.asarray(x2)\n",
    "\n",
    "# YOu might consider rescaling your inputs\n",
    "\n",
    "i= 0 \n",
    "count =1\n",
    "plotx =[]\n",
    "ploty = []\n",
    "while i < 600000:\n",
    "    \n",
    "    result0 = theta0 - np.sum(theta0+theta1*xs-ys) * alpha/m\n",
    "    result1 = theta1 - np.sum(np.multiply((theta0+theta1*xs)-ys,xs)) * alpha/m\n",
    "    theta0 = result0 \n",
    "    theta1 = result1 \n",
    "    i+=1\n",
    "    plotx.append(count)\n",
    "    ploty.append(np.sum(np.multiply((theta0+theta1*xs)-ys,xs)))\n",
    "    \n",
    "    count +=1\n",
    "    \n",
    "print(theta0, theta1)"
   ]
  },
  {
   "cell_type": "code",
   "execution_count": 8,
   "metadata": {},
   "outputs": [],
   "source": [
    "x1 = np.asarray(x1)"
   ]
  },
  {
   "cell_type": "code",
   "execution_count": 9,
   "metadata": {},
   "outputs": [],
   "source": [
    "x1 = x1[:, np.newaxis]"
   ]
  },
  {
   "cell_type": "code",
   "execution_count": 10,
   "metadata": {},
   "outputs": [
    {
     "data": {
      "text/plain": [
       "868.5324469391848"
      ]
     },
     "execution_count": 10,
     "metadata": {},
     "output_type": "execute_result"
    }
   ],
   "source": [
    "# using cvxpy\n",
    "import cvxpy as cp\n",
    "\n",
    "X = np.hstack((np.ones((x1.shape[0],1)), x1))\n",
    "y = np.asarray(x2)\n",
    "thetas = cp.Variable(X.shape[1])\n",
    "\n",
    "cost = cp.sum_squares(X @ thetas - y)\n",
    "prob = cp.Problem(cp.Minimize(cost))\n",
    "prob.solve()"
   ]
  },
  {
   "cell_type": "code",
   "execution_count": 11,
   "metadata": {},
   "outputs": [
    {
     "data": {
      "text/plain": [
       "Expression(CONVEX, NONNEGATIVE, ())"
      ]
     },
     "execution_count": 11,
     "metadata": {},
     "output_type": "execute_result"
    }
   ],
   "source": [
    "cost"
   ]
  },
  {
   "cell_type": "code",
   "execution_count": 12,
   "metadata": {},
   "outputs": [
    {
     "data": {
      "text/plain": [
       "array([-3.89578088,  1.19303364])"
      ]
     },
     "execution_count": 12,
     "metadata": {},
     "output_type": "execute_result"
    }
   ],
   "source": [
    "thetas.value"
   ]
  },
  {
   "cell_type": "code",
   "execution_count": 12,
   "metadata": {},
   "outputs": [],
   "source": [
    "# Scipy\n",
    "\n",
    "X = np.hstack((np.ones((x1.shape[0],1)), x1))\n",
    "y = x2\n",
    "\n",
    "m = x1.shape[0]\n",
    "\n",
    "def cost_function(thetas, X,y, m):\n",
    "    \n",
    "    product = np.matmul(X,thetas)\n",
    "        \n",
    "    return 1/(2*m)*((product - y)**2).sum() \n",
    "\n",
    "thetas0 = np.zeros((2,1))\n",
    "\n",
    "sol = scipy.optimize.minimize(cost_function, thetas0, args = (X, y, m), method = 'powell' )"
   ]
  },
  {
   "cell_type": "code",
   "execution_count": 13,
   "metadata": {},
   "outputs": [
    {
     "name": "stdout",
     "output_type": "stream",
     "text": [
      "[-3.89578087  1.19303364]\n"
     ]
    }
   ],
   "source": [
    "thetas =  sol.x \n",
    "print(thetas)"
   ]
  },
  {
   "cell_type": "code",
   "execution_count": 14,
   "metadata": {},
   "outputs": [],
   "source": [
    "#plt.plot(plotx,ploty);"
   ]
  },
  {
   "cell_type": "code",
   "execution_count": null,
   "metadata": {},
   "outputs": [],
   "source": [
    "x1= df1[df1.columns[0]]\n",
    "x2= df1[df1.columns[1]]\n",
    "fig, ax = plt.subplots()\n",
    "# Function to map the colors as a list from the input list of x variables\n",
    "def pltcolor(lst):\n",
    "    cols=[]\n",
    "    for l in lst:\n",
    "        if l==0:\n",
    "            cols.append('red')\n",
    "        elif l==1:\n",
    "            cols.append('blue')\n",
    "        else:\n",
    "            cols.append('green')\n",
    "    return cols\n",
    "# Create the colors list using the function above\n",
    "\n",
    "\n",
    "plt.scatter(x=x1,y=x2,s=50) #Pass on the list created by the function here\n",
    "\n",
    "ax.set_title('Pass/Fail Given Exam Grades')\n",
    "\n",
    "ax.set_ylabel('Exam2')\n",
    "ax.set_xlabel('Exam 1')\n",
    "ax.legend()\n",
    "\n",
    "x1s = np.asarray(list(range(0,25)))\n",
    "x2s = ((np.multiply(x1s, thetas[1]) +  thetas[0]))\n",
    "\n",
    "plt.plot(x1s,x2s)\n",
    "plt.grid(True)\n",
    "plt.show()"
   ]
  },
  {
   "cell_type": "code",
   "execution_count": null,
   "metadata": {},
   "outputs": [],
   "source": [
    "import statsmodels.api as sm\n",
    "\n",
    "X = xs\n",
    "y = ys\n",
    "X = sm.add_constant(X)\n",
    "# Note the difference in argument order\n",
    "model = sm.OLS(y, X).fit()\n",
    "predictions = model.predict(X) # make the predictions by the model\n",
    "\n",
    "# Print out the statistics\n",
    "model.summary()"
   ]
  },
  {
   "cell_type": "markdown",
   "metadata": {},
   "source": [
    "# Multiple Variables"
   ]
  },
  {
   "cell_type": "code",
   "execution_count": null,
   "metadata": {},
   "outputs": [],
   "source": [
    "df2.head()"
   ]
  },
  {
   "cell_type": "code",
   "execution_count": null,
   "metadata": {},
   "outputs": [],
   "source": [
    "df2.shape\n",
    "X1 = df2[df2.columns[0]]/df2[df2.columns[0]].mean()\n",
    "X2 = df2[df2.columns[1]]/df2[df2.columns[1]].mean()"
   ]
  },
  {
   "cell_type": "code",
   "execution_count": null,
   "metadata": {},
   "outputs": [],
   "source": [
    "y = np.asarray(df2[df2.columns[2]])\n",
    "X = np.asarray([np.ones(len(y)),X1,X2]).T"
   ]
  },
  {
   "cell_type": "code",
   "execution_count": null,
   "metadata": {},
   "outputs": [],
   "source": [
    "# Normal Equation\n",
    "Xt = X.T\n",
    "final = np.matmul(np.matmul(np.linalg.inv(np.matmul(Xt,X)),Xt),y)\n",
    "print(final)"
   ]
  },
  {
   "cell_type": "code",
   "execution_count": null,
   "metadata": {},
   "outputs": [],
   "source": [
    "(final[0] + final[1]*1650/df2[df2.columns[0]].mean() + final[2]*3 /df2[df2.columns[1]].mean() )"
   ]
  },
  {
   "cell_type": "code",
   "execution_count": null,
   "metadata": {},
   "outputs": [],
   "source": [
    "import statsmodels.api as sm\n",
    "\n",
    "X = sm.add_constant(X)\n",
    "# Note the difference in argument order\n",
    "model = sm.OLS(y, X).fit()\n",
    "predictions = model.predict(X) # make the predictions by the model\n",
    "\n",
    "# Print out the statistics\n",
    "model.summary()"
   ]
  },
  {
   "cell_type": "code",
   "execution_count": null,
   "metadata": {},
   "outputs": [],
   "source": [
    "\n"
   ]
  }
 ],
 "metadata": {
  "kernelspec": {
   "display_name": "Python 3",
   "language": "python",
   "name": "python3"
  },
  "language_info": {
   "codemirror_mode": {
    "name": "ipython",
    "version": 3
   },
   "file_extension": ".py",
   "mimetype": "text/x-python",
   "name": "python",
   "nbconvert_exporter": "python",
   "pygments_lexer": "ipython3",
   "version": "3.7.6"
  }
 },
 "nbformat": 4,
 "nbformat_minor": 2
}
